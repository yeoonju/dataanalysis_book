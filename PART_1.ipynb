{
  "nbformat": 4,
  "nbformat_minor": 0,
  "metadata": {
    "colab": {
      "name": "PART 1.ipynb",
      "provenance": [],
      "collapsed_sections": [],
      "authorship_tag": "ABX9TyMnDlcIqL7zElN1LakLh4g0",
      "include_colab_link": true
    },
    "kernelspec": {
      "name": "python3",
      "display_name": "Python 3"
    },
    "language_info": {
      "name": "python"
    }
  },
  "cells": [
    {
      "cell_type": "markdown",
      "metadata": {
        "id": "view-in-github",
        "colab_type": "text"
      },
      "source": [
        "<a href=\"https://colab.research.google.com/github/yeoonju/dataanalysis_book-/blob/main/PART_1.ipynb\" target=\"_parent\"><img src=\"https://colab.research.google.com/assets/colab-badge.svg\" alt=\"Open In Colab\"/></a>"
      ]
    },
    {
      "cell_type": "markdown",
      "metadata": {
        "id": "MWpS9-2Ftp3z"
      },
      "source": [
        "딕셔너리 -> 시리즈 변환"
      ]
    },
    {
      "cell_type": "code",
      "metadata": {
        "colab": {
          "base_uri": "https://localhost:8080/"
        },
        "id": "DRJhp7I-r76-",
        "outputId": "61e452ed-00a8-44d7-abcb-d259869db8f0"
      },
      "source": [
        "# pandas 불러오기\n",
        "import pandas as pd\n",
        "\n",
        "# key:value 쌍으로 딕셔너리를 만들고, 변수 dict_data에 저장 \n",
        "dict_data = {'a':1, 'b':2, 'c':3}\n",
        "\n",
        "# 판다스 Series() 함수로 dictionary를 Series로 변환, 변수 sr에 저장 \n",
        "sr = pd.Series(dict_data)\n",
        "\n",
        "# sr의 자료형 출력 \n",
        "print(type(sr))\n",
        "print('\\n')\n",
        "# 변수 sr에 저장되어 있는 시리즈 객체 출력\n",
        "print(sr)\n",
        "\n",
        "# int64 : 정수열 "
      ],
      "execution_count": 3,
      "outputs": [
        {
          "output_type": "stream",
          "text": [
            "<class 'pandas.core.series.Series'>\n",
            "\n",
            "\n",
            "a    1\n",
            "b    2\n",
            "c    3\n",
            "dtype: int64\n"
          ],
          "name": "stdout"
        }
      ]
    },
    {
      "cell_type": "markdown",
      "metadata": {
        "id": "GE_JdP-jxwns"
      },
      "source": [
        "시리즈 인덱스"
      ]
    },
    {
      "cell_type": "code",
      "metadata": {
        "colab": {
          "base_uri": "https://localhost:8080/"
        },
        "id": "Qth_bKMQw19i",
        "outputId": "3c69dd50-37ca-4e59-94ac-48a1c5bd7fc0"
      },
      "source": [
        "import pandas as pd\n",
        "\n",
        "# 리스트를 시리즈로 변환하여 변수 sr에 저장\n",
        "list_data = ['2019-01-02', 3.14, 'ABC', 100, True]\n",
        "sr = pd.Series(list_data)\n",
        "print(sr)\n",
        "\n",
        "# 인덱스 배열은 변수 idx에 저장, 데이터 값 배열은 변수 val에 저장\n",
        "idx = sr.index\n",
        "val = sr.values\n",
        "print(idx)\n",
        "print('\\n')\n",
        "print(val)\n",
        "\n",
        "# object : 문자열"
      ],
      "execution_count": 8,
      "outputs": [
        {
          "output_type": "stream",
          "text": [
            "0    2019-01-02\n",
            "1          3.14\n",
            "2           ABC\n",
            "3           100\n",
            "4          True\n",
            "dtype: object\n",
            "RangeIndex(start=0, stop=5, step=1)\n",
            "\n",
            "\n",
            "['2019-01-02' 3.14 'ABC' 100 True]\n"
          ],
          "name": "stdout"
        }
      ]
    },
    {
      "cell_type": "markdown",
      "metadata": {
        "id": "mysIJJbszebj"
      },
      "source": [
        "시리즈 원소 선택"
      ]
    },
    {
      "cell_type": "code",
      "metadata": {
        "colab": {
          "base_uri": "https://localhost:8080/"
        },
        "id": "ysbcM7MjyE3M",
        "outputId": "e681a2a4-4da5-44aa-8430-b22b9f5a7b91"
      },
      "source": [
        "import pandas as pd\n",
        "\n",
        "# 투플을 시리즈로 변환(인덱스 옵션 지정)\n",
        "tup_data = ('영인', '2010-05-01', '여', True)\n",
        "sr = pd.Series(tup_data, index=['이름','생년월일','성별','학생여부'])\n",
        "print(sr)\n",
        "\n",
        "#원소를 1개 선택\n",
        "print('\\n')\n",
        "print(sr[0])\n",
        "print('\\n')\n",
        "print(sr['이름'])\n",
        "\n",
        "# 여러 개의 원소를 선택(인덱스 리스트 활용)\n",
        "print('\\n')\n",
        "print(sr[[0,2]])\n",
        "print('\\n')\n",
        "print(sr[['생년월일','성별']])\n",
        "\n",
        "# 여러 개의 원소를 선택(인덱스 범위 지정)\n",
        "print('\\n')\n",
        "print(sr[1:2])\n",
        "print('\\n')\n",
        "print(sr['생년월일':'성별'])"
      ],
      "execution_count": 23,
      "outputs": [
        {
          "output_type": "stream",
          "text": [
            "이름              영인\n",
            "생년월일    2010-05-01\n",
            "성별               여\n",
            "학생여부          True\n",
            "dtype: object\n",
            "\n",
            "\n",
            "영인\n",
            "\n",
            "\n",
            "영인\n",
            "\n",
            "\n",
            "이름    영인\n",
            "성별     여\n",
            "dtype: object\n",
            "\n",
            "\n",
            "생년월일    2010-05-01\n",
            "성별               여\n",
            "dtype: object\n",
            "\n",
            "\n",
            "생년월일    2010-05-01\n",
            "dtype: object\n",
            "\n",
            "\n",
            "생년월일    2010-05-01\n",
            "성별               여\n",
            "dtype: object\n"
          ],
          "name": "stdout"
        }
      ]
    },
    {
      "cell_type": "markdown",
      "metadata": {
        "id": "SEerk0tv8nAa"
      },
      "source": [
        "딕셔너리 -> 데이터프레임 변환"
      ]
    },
    {
      "cell_type": "code",
      "metadata": {
        "colab": {
          "base_uri": "https://localhost:8080/"
        },
        "id": "GxLr7OZo0Mh-",
        "outputId": "ef8f862f-29ad-4921-9a93-fd5c7ef16eef"
      },
      "source": [
        "import pandas as pd\n",
        "\n",
        "# 열 이름은 key로 하고, 리스트를 value로 갖는 딕셔너리 정의(2차원 배열)\n",
        "dict_data = {'c0':[1,2,3], 'c1':[4,5,6], 'c2':[7,8,9], 'c3':[10,11,12], 'c4':[13,14,15]}\n",
        "\n",
        "# 판다스 DataFrame() 함수로 딕셔너리를 데이터프레임으로 변환, 변수 df에 저장 \n",
        "df = pd.DataFrame(dict_data)\n",
        "\n",
        "# df의 자료형 출력 \n",
        "print(type(df))\n",
        "print('\\n')\n",
        "# 변수 df에 저장되어 있는 데이터프레임 객체를 출력\n",
        "print(df)"
      ],
      "execution_count": 24,
      "outputs": [
        {
          "output_type": "stream",
          "text": [
            "<class 'pandas.core.frame.DataFrame'>\n",
            "\n",
            "\n",
            "   c0  c1  c2  c3  c4\n",
            "0   1   4   7  10  13\n",
            "1   2   5   8  11  14\n",
            "2   3   6   9  12  15\n"
          ],
          "name": "stdout"
        }
      ]
    },
    {
      "cell_type": "markdown",
      "metadata": {
        "id": "H15nLlFZ-JPt"
      },
      "source": [
        "행 인덱스/열 이름 설정"
      ]
    },
    {
      "cell_type": "code",
      "metadata": {
        "colab": {
          "base_uri": "https://localhost:8080/"
        },
        "id": "UNDyAHUj9xve",
        "outputId": "c71ae796-6613-4a55-fdb8-423de83a8629"
      },
      "source": [
        "import pandas as pd\n",
        "\n",
        "# 행 인덱스/열 이름 지정하여 데이터프레임 만들기\n",
        "df = pd.DataFrame([[15,'남','덕영중'],[17,'여','수리중']],\n",
        "                  index=['준서','예은'],\n",
        "                  columns=['나이','성별','학교'])\n",
        "# 행 인덱스, 열 이름 확인하기\n",
        "print(df)\n",
        "print('\\n')\n",
        "print(df.index)\n",
        "print('\\n')\n",
        "print(df.columns)\n",
        "\n",
        "# 행 인덱스, 열 이름 변경하기\n",
        "df.index =['학생1','학생2']\n",
        "df.columns=['연령','남녀','소속']\n",
        "print('\\n')\n",
        "print(df)"
      ],
      "execution_count": 28,
      "outputs": [
        {
          "output_type": "stream",
          "text": [
            "    나이 성별   학교\n",
            "준서  15  남  덕영중\n",
            "예은  17  여  수리중\n",
            "\n",
            "\n",
            "Index(['준서', '예은'], dtype='object')\n",
            "\n",
            "\n",
            "Index(['나이', '성별', '학교'], dtype='object')\n",
            "\n",
            "\n",
            "     연령 남녀   소속\n",
            "학생1  15  남  덕영중\n",
            "학생2  17  여  수리중\n"
          ],
          "name": "stdout"
        }
      ]
    },
    {
      "cell_type": "markdown",
      "metadata": {
        "id": "tUxQu5q7_oYB"
      },
      "source": [
        "행 인덱스/열 이름 변경"
      ]
    },
    {
      "cell_type": "code",
      "metadata": {
        "colab": {
          "base_uri": "https://localhost:8080/"
        },
        "id": "PYjDb6sJ_AuS",
        "outputId": "fcefe6e7-be30-4955-d5a8-3e9839123cbf"
      },
      "source": [
        "import pandas as pd\n",
        "\n",
        "# 행 인덱스/열 이름 지정하여 데이터프레임 만들기\n",
        "df = pd.DataFrame([[15,'남','덕영중'],[17,'여','수리중']],\n",
        "                  index=['준서','예은'],\n",
        "                  columns=['나이','성별','학교'])\n",
        "\n",
        "# 바꾸기\n",
        "df.rename(columns={'나이':'연령','성별':'남녀', '학교':'소속'}, inplace=True)\n",
        "df.rename(index={'준서':'학생1','예은':'학생2'},inplace=True)\n",
        "print(df)"
      ],
      "execution_count": 30,
      "outputs": [
        {
          "output_type": "stream",
          "text": [
            "     연령 남녀   소속\n",
            "학생1  15  남  덕영중\n",
            "학생2  17  여  수리중\n"
          ],
          "name": "stdout"
        }
      ]
    },
    {
      "cell_type": "markdown",
      "metadata": {
        "id": "VP7kO0euCGdE"
      },
      "source": [
        "행/열 삭제"
      ]
    },
    {
      "cell_type": "code",
      "metadata": {
        "colab": {
          "base_uri": "https://localhost:8080/"
        },
        "id": "xnmlhTdx_-Xo",
        "outputId": "936ead15-27ab-4da3-91bf-90ce13cb6f53"
      },
      "source": [
        "import pandas as pd\n",
        "\n",
        "# DataFrame () 함수로 데이터프레임 변환, 변수 df에 저장\n",
        "exam_data = {'수학': [90,80,70], '영어': [98,89,95], \n",
        "             '음악': [85,95,100], '체육': [100,90,90]}\n",
        "            \n",
        "df = pd.DataFrame(exam_data, index=['서준','우현','인아'])\n",
        "print(df)\n",
        "print('\\n')\n",
        "\n",
        "# 데이터 프레임 df를 복제하여 변수 df2에 저장, df2의 1개 행 삭제\n",
        "df2 = df[:]\n",
        "df2.drop('우현', inplace=True)\n",
        "print(df2)\n",
        "print('\\n')\n",
        "\n",
        "# df 복제하여 변수 df3에 저장, df의 2개 행 삭제\n",
        "df3 = df[:]\n",
        "df3.drop(['우현','인아'], axis=0, inplace=True)\n",
        "print(df3)"
      ],
      "execution_count": 36,
      "outputs": [
        {
          "output_type": "stream",
          "text": [
            "    수학  영어   음악   체육\n",
            "서준  90  98   85  100\n",
            "우현  80  89   95   90\n",
            "인아  70  95  100   90\n",
            "\n",
            "\n",
            "    수학  영어   음악   체육\n",
            "서준  90  98   85  100\n",
            "인아  70  95  100   90\n",
            "\n",
            "\n",
            "    수학  영어  음악   체육\n",
            "서준  90  98  85  100\n"
          ],
          "name": "stdout"
        },
        {
          "output_type": "stream",
          "text": [
            "/usr/local/lib/python3.7/dist-packages/pandas/core/frame.py:4174: SettingWithCopyWarning: \n",
            "A value is trying to be set on a copy of a slice from a DataFrame\n",
            "\n",
            "See the caveats in the documentation: https://pandas.pydata.org/pandas-docs/stable/user_guide/indexing.html#returning-a-view-versus-a-copy\n",
            "  errors=errors,\n",
            "/usr/local/lib/python3.7/dist-packages/pandas/core/frame.py:4174: SettingWithCopyWarning: \n",
            "A value is trying to be set on a copy of a slice from a DataFrame\n",
            "\n",
            "See the caveats in the documentation: https://pandas.pydata.org/pandas-docs/stable/user_guide/indexing.html#returning-a-view-versus-a-copy\n",
            "  errors=errors,\n"
          ],
          "name": "stderr"
        }
      ]
    },
    {
      "cell_type": "markdown",
      "metadata": {
        "id": "TYUzur-zMl9X"
      },
      "source": [
        "열 삭제"
      ]
    },
    {
      "cell_type": "code",
      "metadata": {
        "colab": {
          "base_uri": "https://localhost:8080/"
        },
        "id": "cV05tzzrCz7r",
        "outputId": "508f7c9b-0b91-45c8-81dc-94c54e963ffd"
      },
      "source": [
        "import pandas as pd\n",
        "\n",
        "# DataFrame () 함수로 데이터프레임 변환, 변수 df에 저장\n",
        "exam_data = {'수학': [90,80,70], '영어': [98,89,95], \n",
        "             '음악': [85,95,100], '체육': [100,90,90]}\n",
        "            \n",
        "df = pd.DataFrame(exam_data, index=['서준','우현','인아'])\n",
        "print(df)\n",
        "print('\\n')\n",
        "\n",
        "# df 복제하여 변수 df4에 저장, df4의 1개 열 삭제\n",
        "df4 = df[:]\n",
        "df4.drop('수학', axis=1, inplace=True)\n",
        "print(df4)\n",
        "\n",
        "# df 복제하여 변수 df5에 저장, df5의 2개 열 삭제\n",
        "df5 = df[:]\n",
        "df5.drop(['영어','음악'], axis=1, inplace=True)\n",
        "print(df5)"
      ],
      "execution_count": 40,
      "outputs": [
        {
          "output_type": "stream",
          "text": [
            "    수학  영어   음악   체육\n",
            "서준  90  98   85  100\n",
            "우현  80  89   95   90\n",
            "인아  70  95  100   90\n",
            "\n",
            "\n",
            "    영어   음악   체육\n",
            "서준  98   85  100\n",
            "우현  89   95   90\n",
            "인아  95  100   90\n",
            "    수학   체육\n",
            "서준  90  100\n",
            "우현  80   90\n",
            "인아  70   90\n"
          ],
          "name": "stdout"
        },
        {
          "output_type": "stream",
          "text": [
            "/usr/local/lib/python3.7/dist-packages/pandas/core/frame.py:4174: SettingWithCopyWarning: \n",
            "A value is trying to be set on a copy of a slice from a DataFrame\n",
            "\n",
            "See the caveats in the documentation: https://pandas.pydata.org/pandas-docs/stable/user_guide/indexing.html#returning-a-view-versus-a-copy\n",
            "  errors=errors,\n",
            "/usr/local/lib/python3.7/dist-packages/pandas/core/frame.py:4174: SettingWithCopyWarning: \n",
            "A value is trying to be set on a copy of a slice from a DataFrame\n",
            "\n",
            "See the caveats in the documentation: https://pandas.pydata.org/pandas-docs/stable/user_guide/indexing.html#returning-a-view-versus-a-copy\n",
            "  errors=errors,\n"
          ],
          "name": "stderr"
        }
      ]
    },
    {
      "cell_type": "markdown",
      "metadata": {
        "id": "-VSrAyfTNlZp"
      },
      "source": [
        "행 선택"
      ]
    },
    {
      "cell_type": "code",
      "metadata": {
        "colab": {
          "base_uri": "https://localhost:8080/"
        },
        "id": "jY0QjMz_M61a",
        "outputId": "d3071eed-305b-4764-8ed0-43f4000f3089"
      },
      "source": [
        "import pandas as pd\n",
        "\n",
        "# DataFrame () 함수로 데이터프레임 변환, 변수 df에 저장\n",
        "exam_data = {'수학': [90,80,70], '영어': [98,89,95], \n",
        "             '음악': [85,95,100], '체육': [100,90,90]}\n",
        "            \n",
        "df = pd.DataFrame(exam_data, index=['서준','우현','인아'])\n",
        "print(df)\n",
        "print('\\n')\n",
        "\n",
        "# 행 인덱스를 사용하여 행 1개 선택 \n",
        "label1 = df.loc['서준']\n",
        "position1 = df.iloc[0]\n",
        "print(label1)\n",
        "print('\\n')\n",
        "print(position1)\n",
        "\n",
        "# 행 인덱스를 사용하여 2개 이상의 행 선택\n",
        "label2 = df.loc[['서준','우현']]\n",
        "position2 = df.iloc[[0,1]]\n",
        "print(label2)\n",
        "print('\\n')\n",
        "print(position2)\n",
        "\n",
        "# 행 인덱스의 범위를 지정하여 행 선택\n",
        "label3 = df.loc['서준':'우현']\n",
        "position3 = df.iloc[0:1]\n",
        "print(label3)\n",
        "print('\\n')\n",
        "print(position3)"
      ],
      "execution_count": 43,
      "outputs": [
        {
          "output_type": "stream",
          "text": [
            "    수학  영어   음악   체육\n",
            "서준  90  98   85  100\n",
            "우현  80  89   95   90\n",
            "인아  70  95  100   90\n",
            "\n",
            "\n",
            "수학     90\n",
            "영어     98\n",
            "음악     85\n",
            "체육    100\n",
            "Name: 서준, dtype: int64\n",
            "\n",
            "\n",
            "수학     90\n",
            "영어     98\n",
            "음악     85\n",
            "체육    100\n",
            "Name: 서준, dtype: int64\n",
            "    수학  영어  음악   체육\n",
            "서준  90  98  85  100\n",
            "우현  80  89  95   90\n",
            "\n",
            "\n",
            "    수학  영어  음악   체육\n",
            "서준  90  98  85  100\n",
            "우현  80  89  95   90\n",
            "    수학  영어  음악   체육\n",
            "서준  90  98  85  100\n",
            "우현  80  89  95   90\n",
            "\n",
            "\n",
            "    수학  영어  음악   체육\n",
            "서준  90  98  85  100\n"
          ],
          "name": "stdout"
        }
      ]
    },
    {
      "cell_type": "markdown",
      "metadata": {
        "id": "cFb82yp-OsUH"
      },
      "source": [
        "열 선택"
      ]
    },
    {
      "cell_type": "code",
      "metadata": {
        "colab": {
          "base_uri": "https://localhost:8080/"
        },
        "id": "DjtaRaHWOZjh",
        "outputId": "752b45d0-886d-43d1-abbb-41da4de5bd78"
      },
      "source": [
        "import pandas as pd\n",
        "\n",
        "# DataFrame () 함수로 데이터프레임 변환, 변수 df에 저장\n",
        "exam_data = {'이름': ['서준','우현','인아'],\n",
        "             '수학': [90,80,70], \n",
        "             '영어': [98,89,95], \n",
        "             '음악': [85,95,100], \n",
        "             '체육': [100,90,90]}\n",
        "df = pd.DataFrame(exam_data)\n",
        "print(df)\n",
        "print(type(df))\n",
        "print('\\n')\n",
        "\n",
        "# '수학' 점수 데이터만 선택, 변수 math1에 저장\n",
        "math1 = df['수학']\n",
        "print(math1)\n",
        "print(type(math1))\n",
        "print('\\n')\n",
        "\n",
        "# '영어' 점수 데이터만 선택, 변수 english에 저장\n",
        "english = df.영어\n",
        "print(english)\n",
        "print(type(english))\n",
        "\n",
        "# '음악', '체육' 점수 데이터를 선택, 변수 music_gym에 저장\n",
        "music_gym = df[['음악','체육']]\n",
        "print(music_gym)\n",
        "print(type(music_gym))\n",
        "print('\\n')\n",
        "\n",
        "# '수학' 점수 데이터만 선택, 변수 math2에 저장\n",
        "math2 = df[['수학']]\n",
        "print(math2)\n",
        "print(type(math2))"
      ],
      "execution_count": 52,
      "outputs": [
        {
          "output_type": "stream",
          "text": [
            "   이름  수학  영어   음악   체육\n",
            "0  서준  90  98   85  100\n",
            "1  우현  80  89   95   90\n",
            "2  인아  70  95  100   90\n",
            "<class 'pandas.core.frame.DataFrame'>\n",
            "\n",
            "\n",
            "0    90\n",
            "1    80\n",
            "2    70\n",
            "Name: 수학, dtype: int64\n",
            "<class 'pandas.core.series.Series'>\n",
            "\n",
            "\n",
            "0    98\n",
            "1    89\n",
            "2    95\n",
            "Name: 영어, dtype: int64\n",
            "<class 'pandas.core.series.Series'>\n",
            "    음악   체육\n",
            "0   85  100\n",
            "1   95   90\n",
            "2  100   90\n",
            "<class 'pandas.core.frame.DataFrame'>\n",
            "\n",
            "\n",
            "   수학\n",
            "0  90\n",
            "1  80\n",
            "2  70\n",
            "<class 'pandas.core.frame.DataFrame'>\n"
          ],
          "name": "stdout"
        }
      ]
    },
    {
      "cell_type": "markdown",
      "metadata": {
        "id": "TicHa0l8X0V2"
      },
      "source": [
        "원소 선택"
      ]
    },
    {
      "cell_type": "code",
      "metadata": {
        "colab": {
          "base_uri": "https://localhost:8080/"
        },
        "id": "B8dL40JvN7h7",
        "outputId": "d3ba856d-2394-4b2d-8ffe-580f13c0e8ee"
      },
      "source": [
        "import pandas as pd\n",
        "\n",
        "# DataFrame () 함수로 데이터프레임 변환, 변수 df에 저장\n",
        "exam_data = {'이름': ['서준','우현','인아'],\n",
        "             '수학': [90,80,70], \n",
        "             '영어': [98,89,95], \n",
        "             '음악': [85,95,100], \n",
        "             '체육': [100,90,90]}\n",
        "df = pd.DataFrame(exam_data)\n",
        "\n",
        "# '이름' 열을 새로운 인덱스로 지정하고, df 객체에 변경 사항 반영\n",
        "df.set_index('이름', inplace = True)\n",
        "print(df)\n",
        "\n",
        "# df의 특정 원소 1개 선택\n",
        "a = df.loc['서준','음악']\n",
        "print(a)\n",
        "b = df.iloc[0,2]\n",
        "print(b)\n",
        "\n",
        "# df의 특정 원소 2개 이상 선택\n",
        "c = df.loc['서준',['음악','체육']]\n",
        "print(c)\n",
        "d = df.iloc[0,[2,3]]\n",
        "print(d)\n",
        "e = df.loc['서준','음악':'체육']\n",
        "print(e)\n",
        "f = df.iloc[0,2:]\n",
        "print(f)\n",
        "\n",
        "# df 2개 이상의 행과 열에 속하는 원소들 선택\n",
        "g = df.loc[['서준','우현'],['음악','체육']]\n",
        "print(g)\n",
        "h = df.iloc[[0,1],[2,3]]\n",
        "print(h)\n",
        "i = df.loc['서준':'우현','음악':'체육']\n",
        "print(i)\n",
        "j = df.iloc[0:2,2:]\n",
        "print(j)"
      ],
      "execution_count": 61,
      "outputs": [
        {
          "output_type": "stream",
          "text": [
            "    수학  영어   음악   체육\n",
            "이름                  \n",
            "서준  90  98   85  100\n",
            "우현  80  89   95   90\n",
            "인아  70  95  100   90\n",
            "85\n",
            "85\n",
            "음악     85\n",
            "체육    100\n",
            "Name: 서준, dtype: int64\n",
            "음악     85\n",
            "체육    100\n",
            "Name: 서준, dtype: int64\n",
            "음악     85\n",
            "체육    100\n",
            "Name: 서준, dtype: int64\n",
            "음악     85\n",
            "체육    100\n",
            "Name: 서준, dtype: int64\n",
            "    음악   체육\n",
            "이름         \n",
            "서준  85  100\n",
            "우현  95   90\n",
            "    음악   체육\n",
            "이름         \n",
            "서준  85  100\n",
            "우현  95   90\n",
            "    음악   체육\n",
            "이름         \n",
            "서준  85  100\n",
            "우현  95   90\n",
            "    음악   체육\n",
            "이름         \n",
            "서준  85  100\n",
            "우현  95   90\n"
          ],
          "name": "stdout"
        }
      ]
    },
    {
      "cell_type": "markdown",
      "metadata": {
        "id": "6x4y54YoeIs5"
      },
      "source": [
        "열 추가"
      ]
    },
    {
      "cell_type": "code",
      "metadata": {
        "colab": {
          "base_uri": "https://localhost:8080/"
        },
        "id": "QIEtAdP6b1IB",
        "outputId": "3cef208e-c4f1-4e1d-fd17-7ea22aff7e85"
      },
      "source": [
        "import pandas as pd\n",
        "\n",
        "# DataFrame () 함수로 데이터프레임 변환, 변수 df에 저장\n",
        "exam_data = {'이름': ['서준','우현','인아'],\n",
        "             '수학': [90,80,70], \n",
        "             '영어': [98,89,95], \n",
        "             '음악': [85,95,100], \n",
        "             '체육': [100,90,90]}\n",
        "df = pd.DataFrame(exam_data)\n",
        "\n",
        "print(df)\n",
        "print('\\n')\n",
        "\n",
        "# df에 '국어' 점수 열 추가, 데이터값은 80\n",
        "df['국어'] = 80\n",
        "print(df)"
      ],
      "execution_count": 63,
      "outputs": [
        {
          "output_type": "stream",
          "text": [
            "   이름  수학  영어   음악   체육\n",
            "0  서준  90  98   85  100\n",
            "1  우현  80  89   95   90\n",
            "2  인아  70  95  100   90\n",
            "\n",
            "\n",
            "   이름  수학  영어   음악   체육  국어\n",
            "0  서준  90  98   85  100  80\n",
            "1  우현  80  89   95   90  80\n",
            "2  인아  70  95  100   90  80\n"
          ],
          "name": "stdout"
        }
      ]
    },
    {
      "cell_type": "markdown",
      "metadata": {
        "id": "O7ruYgPHfJXa"
      },
      "source": [
        "행 추가"
      ]
    },
    {
      "cell_type": "code",
      "metadata": {
        "colab": {
          "base_uri": "https://localhost:8080/"
        },
        "id": "0oYqm4ZpeVJY",
        "outputId": "d9f9518f-cf38-4f4d-d8bd-23c1c5f12a04"
      },
      "source": [
        "import pandas as pd\n",
        "\n",
        "# DataFrame () 함수로 데이터프레임 변환, 변수 df에 저장\n",
        "exam_data = {'이름': ['서준','우현','인아'],\n",
        "             '수학': [90,80,70], \n",
        "             '영어': [98,89,95], \n",
        "             '음악': [85,95,100], \n",
        "             '체육': [100,90,90]}\n",
        "df = pd.DataFrame(exam_data)\n",
        "print(df)\n",
        "print('\\n')\n",
        "\n",
        "# 새로운 행 추가 - 같은 원소 값 입력 \n",
        "df.loc[3] = 0\n",
        "print(df)\n",
        "print('\\n')\n",
        "\n",
        "# 새로운 행 추가 - 원소 값 여러 개의 배열 입력\n",
        "df.loc[4] = ['동규',90,80,70,60]\n",
        "print(df)\n",
        "print('\\n')\n",
        "\n",
        "# 새로운 행 추가 - 기존 행 복사\n",
        "df.loc['행5'] = df.loc[3]\n",
        "print(df)"
      ],
      "execution_count": 64,
      "outputs": [
        {
          "output_type": "stream",
          "text": [
            "   이름  수학  영어   음악   체육\n",
            "0  서준  90  98   85  100\n",
            "1  우현  80  89   95   90\n",
            "2  인아  70  95  100   90\n",
            "\n",
            "\n",
            "   이름  수학  영어   음악   체육\n",
            "0  서준  90  98   85  100\n",
            "1  우현  80  89   95   90\n",
            "2  인아  70  95  100   90\n",
            "3   0   0   0    0    0\n",
            "\n",
            "\n",
            "   이름  수학  영어   음악   체육\n",
            "0  서준  90  98   85  100\n",
            "1  우현  80  89   95   90\n",
            "2  인아  70  95  100   90\n",
            "3   0   0   0    0    0\n",
            "4  동규  90  80   70   60\n",
            "\n",
            "\n",
            "    이름  수학  영어   음악   체육\n",
            "0   서준  90  98   85  100\n",
            "1   우현  80  89   95   90\n",
            "2   인아  70  95  100   90\n",
            "3    0   0   0    0    0\n",
            "4   동규  90  80   70   60\n",
            "행5   0   0   0    0    0\n"
          ],
          "name": "stdout"
        }
      ]
    },
    {
      "cell_type": "markdown",
      "metadata": {
        "id": "jBnwLL78hfFs"
      },
      "source": [
        "원소 값 변경"
      ]
    },
    {
      "cell_type": "code",
      "metadata": {
        "colab": {
          "base_uri": "https://localhost:8080/"
        },
        "id": "JtjOMi5khhnC",
        "outputId": "c6e51c56-a002-4b65-ebfc-49559a68324d"
      },
      "source": [
        "import pandas as pd\n",
        "\n",
        "# DataFrame () 함수로 데이터프레임 변환, 변수 df에 저장\n",
        "exam_data = {'이름': ['서준','우현','인아'],\n",
        "             '수학': [90,80,70], \n",
        "             '영어': [98,89,95], \n",
        "             '음악': [85,95,100], \n",
        "             '체육': [100,90,90]}\n",
        "df = pd.DataFrame(exam_data)\n",
        "\n",
        "# '이름' 열을 새로운 인덱스로 지정하고, df 객체에 변경사항 반영\n",
        "df.set_index('이름', inplace=True)\n",
        "print(df)\n",
        "print('\\n')\n",
        "\n",
        "# df의 특정 원소 변경하는 방법 : '서준'의 '체육' 점수\n",
        "df.iloc[0][3] = 80\n",
        "print(df)\n",
        "print('\\n')\n",
        "\n",
        "df.loc['서준']['체육'] = 90\n",
        "print(df)\n",
        "print('\\n')\n",
        "\n",
        "df.loc['서준','체육'] = 100\n",
        "print(df)\n",
        "\n",
        "# df의 원소 여러 개를 변경하는 방법 : '서준'의 '음악', '체육' 점수\n",
        "df.loc['서준',['음악','체육']] = 50\n",
        "print(df)\n",
        "print('\\n')\n",
        "\n",
        "df.loc['서준',['음악','체육']] = 100,50\n",
        "print(df)"
      ],
      "execution_count": 68,
      "outputs": [
        {
          "output_type": "stream",
          "text": [
            "    수학  영어   음악   체육\n",
            "이름                  \n",
            "서준  90  98   85  100\n",
            "우현  80  89   95   90\n",
            "인아  70  95  100   90\n",
            "\n",
            "\n",
            "    수학  영어   음악  체육\n",
            "이름                 \n",
            "서준  90  98   85  80\n",
            "우현  80  89   95  90\n",
            "인아  70  95  100  90\n",
            "\n",
            "\n",
            "    수학  영어   음악  체육\n",
            "이름                 \n",
            "서준  90  98   85  90\n",
            "우현  80  89   95  90\n",
            "인아  70  95  100  90\n",
            "\n",
            "\n",
            "    수학  영어   음악   체육\n",
            "이름                  \n",
            "서준  90  98   85  100\n",
            "우현  80  89   95   90\n",
            "인아  70  95  100   90\n",
            "    수학  영어   음악  체육\n",
            "이름                 \n",
            "서준  90  98   50  50\n",
            "우현  80  89   95  90\n",
            "인아  70  95  100  90\n",
            "\n",
            "\n",
            "    수학  영어   음악  체육\n",
            "이름                 \n",
            "서준  90  98  100  50\n",
            "우현  80  89   95  90\n",
            "인아  70  95  100  90\n"
          ],
          "name": "stdout"
        }
      ]
    },
    {
      "cell_type": "markdown",
      "metadata": {
        "id": "mZluU658n2Mv"
      },
      "source": [
        "행, 열의 위치 바꾸기"
      ]
    },
    {
      "cell_type": "code",
      "metadata": {
        "colab": {
          "base_uri": "https://localhost:8080/"
        },
        "id": "26oAKAD4nWNE",
        "outputId": "7c09c9d7-9882-4202-ed8b-759fe9d0eaa1"
      },
      "source": [
        "import pandas as pd\n",
        "\n",
        "# DataFrame () 함수로 데이터프레임 변환, 변수 df에 저장\n",
        "exam_data = {'이름': ['서준','우현','인아'],\n",
        "             '수학': [90,80,70], \n",
        "             '영어': [98,89,95], \n",
        "             '음악': [85,95,100], \n",
        "             '체육': [100,90,90]}\n",
        "df = pd.DataFrame(exam_data)\n",
        "print(df)\n",
        "print('\\n')\n",
        "\n",
        "# df를 전치하기(메소드 활용)\n",
        "df = df.transpose()\n",
        "print(df)\n",
        "print('\\n')\n",
        "\n",
        "# df 다시 전치하기(클래스 속성 활용)\n",
        "df = df.T\n",
        "print(df)"
      ],
      "execution_count": 69,
      "outputs": [
        {
          "output_type": "stream",
          "text": [
            "   이름  수학  영어   음악   체육\n",
            "0  서준  90  98   85  100\n",
            "1  우현  80  89   95   90\n",
            "2  인아  70  95  100   90\n",
            "\n",
            "\n",
            "      0   1    2\n",
            "이름   서준  우현   인아\n",
            "수학   90  80   70\n",
            "영어   98  89   95\n",
            "음악   85  95  100\n",
            "체육  100  90   90\n",
            "\n",
            "\n",
            "   이름  수학  영어   음악   체육\n",
            "0  서준  90  98   85  100\n",
            "1  우현  80  89   95   90\n",
            "2  인아  70  95  100   90\n"
          ],
          "name": "stdout"
        }
      ]
    },
    {
      "cell_type": "code",
      "metadata": {
        "colab": {
          "base_uri": "https://localhost:8080/"
        },
        "id": "eY8N695noLXf",
        "outputId": "2ffda33c-857d-4b9e-af05-9aa2c47f1e94"
      },
      "source": [
        "import pandas as pd\n",
        "\n",
        "# DataFrame () 함수로 데이터프레임 변환, 변수 df에 저장\n",
        "exam_data = {'이름': ['서준','우현','인아'],\n",
        "             '수학': [90,80,70], \n",
        "             '영어': [98,89,95], \n",
        "             '음악': [85,95,100], \n",
        "             '체육': [100,90,90]}\n",
        "df = pd.DataFrame(exam_data)\n",
        "print(df)\n",
        "print('\\n')\n",
        "\n",
        "# 특정 열을 데이터프레임의 행 인덱스로 설정\n",
        "ndf = df.set_index(['이름'])\n",
        "print(ndf)\n",
        "print('\\n')\n",
        "ndf2 = ndf.set_index('음악')\n",
        "print(ndf2)\n",
        "print('\\n')\n",
        "ndf3 = ndf.set_index(['수학','음악'])\n",
        "print(ndf3)"
      ],
      "execution_count": 73,
      "outputs": [
        {
          "output_type": "stream",
          "text": [
            "   이름  수학  영어   음악   체육\n",
            "0  서준  90  98   85  100\n",
            "1  우현  80  89   95   90\n",
            "2  인아  70  95  100   90\n",
            "\n",
            "\n",
            "    수학  영어   음악   체육\n",
            "이름                  \n",
            "서준  90  98   85  100\n",
            "우현  80  89   95   90\n",
            "인아  70  95  100   90\n",
            "\n",
            "\n",
            "     수학  영어   체육\n",
            "음악              \n",
            "85   90  98  100\n",
            "95   80  89   90\n",
            "100  70  95   90\n",
            "\n",
            "\n",
            "        영어   체육\n",
            "수학 음악          \n",
            "90 85   98  100\n",
            "80 95   89   90\n",
            "70 100  95   90\n"
          ],
          "name": "stdout"
        }
      ]
    },
    {
      "cell_type": "markdown",
      "metadata": {
        "id": "rS67PrrNo7oW"
      },
      "source": [
        "행 인덱스 재배열"
      ]
    },
    {
      "cell_type": "code",
      "metadata": {
        "colab": {
          "base_uri": "https://localhost:8080/"
        },
        "id": "oRwayUQjo9PH",
        "outputId": "c89c0e51-dc33-4d2c-f1a9-9fed71076467"
      },
      "source": [
        "import pandas as pd\n",
        "\n",
        "# 딕셔너리 정의\n",
        "dict_data = {'c0':[1,2,3], 'c1':[4,5,6],'c2':[7,8,9], 'c3':[10,11,12], 'c4':[13,14,15]}\n",
        "\n",
        "# 딕셔너리를 데이터프레임으로 변환, 인덱스를 [r0,r1,r2]로 지정\n",
        "df = pd.DataFrame(dict_data, index=['r0','r1','r2'])\n",
        "print(df)\n",
        "print('\\n')\n",
        "\n",
        "# 인덱스를 [r0,r1,r2,r3,r4]로 재지정\n",
        "new_index = ['r0','r1','r2','r3','r4']\n",
        "ndf = df.reindex(new_index)\n",
        "print(ndf)\n",
        "print('\\n')\n",
        "\n",
        "# reindex로 발생한 NaN 값을 숫자 0으로 채우기\n",
        "new_index = ['r0','r1','r2','r3','r4']\n",
        "ndf2 = df.reindex(new_index, fill_value=0)\n",
        "print(ndf2)"
      ],
      "execution_count": 78,
      "outputs": [
        {
          "output_type": "stream",
          "text": [
            "    c0  c1  c2  c3  c4\n",
            "r0   1   4   7  10  13\n",
            "r1   2   5   8  11  14\n",
            "r2   3   6   9  12  15\n",
            "\n",
            "\n",
            "     c0   c1   c2    c3    c4\n",
            "r0  1.0  4.0  7.0  10.0  13.0\n",
            "r1  2.0  5.0  8.0  11.0  14.0\n",
            "r2  3.0  6.0  9.0  12.0  15.0\n",
            "r3  NaN  NaN  NaN   NaN   NaN\n",
            "r4  NaN  NaN  NaN   NaN   NaN\n",
            "\n",
            "\n",
            "    c0  c1  c2  c3  c4\n",
            "r0   1   4   7  10  13\n",
            "r1   2   5   8  11  14\n",
            "r2   3   6   9  12  15\n",
            "r3   0   0   0   0   0\n",
            "r4   0   0   0   0   0\n"
          ],
          "name": "stdout"
        }
      ]
    },
    {
      "cell_type": "markdown",
      "metadata": {
        "id": "1ieC_K0Gqdfd"
      },
      "source": [
        "행 인덱스 초기화"
      ]
    },
    {
      "cell_type": "code",
      "metadata": {
        "colab": {
          "base_uri": "https://localhost:8080/"
        },
        "id": "QiMYusOGolTI",
        "outputId": "609564bc-12a9-46eb-b79b-35098767bb58"
      },
      "source": [
        "import pandas as pd\n",
        "\n",
        "# 딕셔너리 정의\n",
        "dict_data = {'c0':[1,2,3], 'c1':[4,5,6],'c2':[7,8,9], 'c3':[10,11,12], 'c4':[13,14,15]}\n",
        "\n",
        "# 딕셔너리를 데이터프레임으로 변환, 인덱스를 [r0,r1,r2]로 지정\n",
        "df = pd.DataFrame(dict_data, index=['r0','r1','r2'])\n",
        "print(df)\n",
        "print('\\n')\n",
        "\n",
        "# 행 인덱스를 정수형으로 초기화\n",
        "ndf = df.reset_index()\n",
        "print(ndf)"
      ],
      "execution_count": 80,
      "outputs": [
        {
          "output_type": "stream",
          "text": [
            "    c0  c1  c2  c3  c4\n",
            "r0   1   4   7  10  13\n",
            "r1   2   5   8  11  14\n",
            "r2   3   6   9  12  15\n",
            "\n",
            "\n",
            "  index  c0  c1  c2  c3  c4\n",
            "0    r0   1   4   7  10  13\n",
            "1    r1   2   5   8  11  14\n",
            "2    r2   3   6   9  12  15\n"
          ],
          "name": "stdout"
        }
      ]
    },
    {
      "cell_type": "markdown",
      "metadata": {
        "id": "ssslRWBAsha1"
      },
      "source": [
        "행 인덱스를 기준으로 데이터프레임 정렬"
      ]
    },
    {
      "cell_type": "code",
      "metadata": {
        "colab": {
          "base_uri": "https://localhost:8080/"
        },
        "id": "Zs2-wWF5sY-S",
        "outputId": "15c8f45c-1f43-40d0-c1c6-2fcdb9e4f2ae"
      },
      "source": [
        "import pandas as pd\n",
        "\n",
        "# 딕셔너리 정의\n",
        "dict_data = {'c0':[1,2,3], 'c1':[4,5,6],'c2':[7,8,9], 'c3':[10,11,12], 'c4':[13,14,15]}\n",
        "\n",
        "# 딕셔너리를 데이터프레임으로 변환, 인덱스를 [r0,r1,r2]로 지정\n",
        "df = pd.DataFrame(dict_data, index=['r0','r1','r2'])\n",
        "print(df)\n",
        "print('\\n')\n",
        "\n",
        "# 내림차순으로 행 인덱스 정렬\n",
        "ndf = df.sort_index(ascending=False)\n",
        "print(ndf)\n",
        "print('\\n')\n",
        "\n",
        "# c1 열 기준으로 내림차순 정렬\n",
        "ndf2 = df.sort_values(by='c2', ascending=False)\n",
        "print(ndf2)"
      ],
      "execution_count": 87,
      "outputs": [
        {
          "output_type": "stream",
          "text": [
            "    c0  c1  c2  c3  c4\n",
            "r0   1   4   7  10  13\n",
            "r1   2   5   8  11  14\n",
            "r2   3   6   9  12  15\n",
            "\n",
            "\n",
            "    c0  c1  c2  c3  c4\n",
            "r2   3   6   9  12  15\n",
            "r1   2   5   8  11  14\n",
            "r0   1   4   7  10  13\n",
            "\n",
            "\n",
            "    c0  c1  c2  c3  c4\n",
            "r2   3   6   9  12  15\n",
            "r1   2   5   8  11  14\n",
            "r0   1   4   7  10  13\n"
          ],
          "name": "stdout"
        }
      ]
    },
    {
      "cell_type": "markdown",
      "metadata": {
        "id": "SQHBc5xIudke"
      },
      "source": [
        "### 산술연산 \n",
        "3단계 프로세스 "
      ]
    },
    {
      "cell_type": "markdown",
      "metadata": {
        "id": "nDFLGNSrupl8"
      },
      "source": [
        "시리즈 연산\n",
        "\n",
        "시리즈를 숫자로 나누기"
      ]
    },
    {
      "cell_type": "code",
      "metadata": {
        "colab": {
          "base_uri": "https://localhost:8080/"
        },
        "id": "xnVxooSPsyQG",
        "outputId": "93844a48-980c-440f-8e99-05543d909bbf"
      },
      "source": [
        "import pandas as pd \n",
        "\n",
        "# 딕셔너리 데이터로 판다스 시리즈 만들기\n",
        "student1 = pd.Series({'국어':100,'영어':80,'수학':90})\n",
        "print(student1)\n",
        "print('\\n')\n",
        "\n",
        "# 학생의 과목별 점수 200으로 나누기\n",
        "percentage = student1/200\n",
        "\n",
        "print(percentage)\n",
        "print('\\n')\n",
        "print(type(percentage))\n"
      ],
      "execution_count": 90,
      "outputs": [
        {
          "output_type": "stream",
          "text": [
            "국어    100\n",
            "영어     80\n",
            "수학     90\n",
            "dtype: int64\n",
            "\n",
            "\n",
            "국어    0.50\n",
            "영어    0.40\n",
            "수학    0.45\n",
            "dtype: float64\n"
          ],
          "name": "stdout"
        }
      ]
    },
    {
      "cell_type": "markdown",
      "metadata": {
        "id": "9rLzUISBvMSH"
      },
      "source": [
        "시리즈 사칙연산"
      ]
    },
    {
      "cell_type": "code",
      "metadata": {
        "colab": {
          "base_uri": "https://localhost:8080/"
        },
        "id": "mXgFY__GvOJ1",
        "outputId": "49567257-ff0e-4988-a47b-78c8a31f4d8d"
      },
      "source": [
        "import pandas as pd\n",
        "\n",
        "# 딕셔너리 데이터로 판다스 시리즈 만들기\n",
        "student1 = pd.Series({'국어':100,'영어':80, '수학':90})\n",
        "student2 = pd.Series({'수학':80,'국어':90,'영어':80})\n",
        "\n",
        "print(student1)\n",
        "print('\\n')\n",
        "print(student2)\n",
        "print('\\n')\n",
        "\n",
        "# 두 학생의 과목별 점수로 사칙연산 수행\n",
        "addition = student1 + student2\n",
        "subtraction = student1 - student2\n",
        "multiplication = student1 * student2\n",
        "division = student1/student2\n",
        "print(type(division))\n",
        "print('\\n')\n",
        "\n",
        "# 사칙연산 결과를 데이터프레임으로 합치기 (시리즈 -> df)\n",
        "result = pd.DataFrame([addition,subtraction,multiplication,division], \n",
        "                      index = ['덧셈','뺄셈','곱셈','나눗셈'])\n",
        "print(result)"
      ],
      "execution_count": 92,
      "outputs": [
        {
          "output_type": "stream",
          "text": [
            "국어    100\n",
            "영어     80\n",
            "수학     90\n",
            "dtype: int64\n",
            "\n",
            "\n",
            "수학    80\n",
            "국어    90\n",
            "영어    80\n",
            "dtype: int64\n",
            "\n",
            "\n",
            "<class 'pandas.core.series.Series'>\n",
            "\n",
            "\n",
            "              국어        수학      영어\n",
            "덧셈    190.000000   170.000   160.0\n",
            "뺄셈     10.000000    10.000     0.0\n",
            "곱셈   9000.000000  7200.000  6400.0\n",
            "나눗셈     1.111111     1.125     1.0\n"
          ],
          "name": "stdout"
        }
      ]
    },
    {
      "cell_type": "markdown",
      "metadata": {
        "id": "j5qklW_xxYB-"
      },
      "source": [
        "NaN 값이 있는 시리즈 연산"
      ]
    },
    {
      "cell_type": "code",
      "metadata": {
        "colab": {
          "base_uri": "https://localhost:8080/"
        },
        "id": "Ybv74GSDu8yU",
        "outputId": "c8d1e235-251b-4e0c-c838-49f20285f071"
      },
      "source": [
        "# 라이브러리 불러오기\n",
        "import pandas as pd\n",
        "import numpy as np\n",
        "\n",
        "# 딕셔너리 데이터로 판다스 시리즈 만들기\n",
        "student1 = pd.Series({'국어': np.nan,'영어': 80, '수학':90})\n",
        "student2 = pd.Series({'수학': 80,'국어':90})\n",
        "\n",
        "# 두 학생의 과목별 점수로 사칙연산 수행 (시리즈 vs 시리즈)\n",
        "addition = student1 + student2\n",
        "subtraction = student1 - student2\n",
        "multiplication = student1 * student2\n",
        "division = student1/student2\n",
        "print(type(division))\n",
        "print('\\n')\n",
        "\n",
        "# 사칙연산 결과를 데이터프레임으로 합치ㅣ\n",
        "result = pd.DataFrame([addition,subtraction,multiplication,division], \n",
        "                      index = ['덧셈','뺄셈','곱셈','나눗셈'])\n",
        "print(result)"
      ],
      "execution_count": 93,
      "outputs": [
        {
          "output_type": "stream",
          "text": [
            "<class 'pandas.core.series.Series'>\n",
            "\n",
            "\n",
            "     국어        수학  영어\n",
            "덧셈  NaN   170.000 NaN\n",
            "뺄셈  NaN    10.000 NaN\n",
            "곱셈  NaN  7200.000 NaN\n",
            "나눗셈 NaN     1.125 NaN\n"
          ],
          "name": "stdout"
        }
      ]
    },
    {
      "cell_type": "markdown",
      "metadata": {
        "id": "6V2SgUIt0EDB"
      },
      "source": [
        "연산 메소드"
      ]
    },
    {
      "cell_type": "code",
      "metadata": {
        "colab": {
          "base_uri": "https://localhost:8080/"
        },
        "id": "BnRwugr70HVk",
        "outputId": "b76d9ce5-551b-4f34-e11c-b32dc01bd48e"
      },
      "source": [
        "# 라이브러리 불러오기\n",
        "import pandas as pd\n",
        "import numpy as np\n",
        "\n",
        "# 딕셔너리 데이터로 판다스 시리즈 만들기\n",
        "student1 = pd.Series({'국어': np.nan,'영어': 80, '수학':90})\n",
        "student2 = pd.Series({'수학': 80,'국어':90})\n",
        "\n",
        "# 두 학생의 과목별 점수로 사칙연산 수행 (시리즈 vs 시리즈)\n",
        "sr_add = student1.add(student2, fill_value=0)\n",
        "sr_sub = student1.sub(student2, fill_value=0)\n",
        "sr_mul = student1.mul(student2, fill_value=0)\n",
        "sr_div = student1.div(student2, fill_value=0)\n",
        "\n",
        "# 사칙연산 결과를 데이터프레임으로 합치ㅣ\n",
        "result = pd.DataFrame([sr_add,sr_sub,sr_mul,sr_div], \n",
        "                      index = ['덧셈','뺄셈','곱셈','나눗셈'])\n",
        "print(result)"
      ],
      "execution_count": 94,
      "outputs": [
        {
          "output_type": "stream",
          "text": [
            "       국어        수학    영어\n",
            "덧셈   90.0   170.000  80.0\n",
            "뺄셈  -90.0    10.000  80.0\n",
            "곱셈    0.0  7200.000   0.0\n",
            "나눗셈   0.0     1.125   inf\n"
          ],
          "name": "stdout"
        }
      ]
    },
    {
      "cell_type": "markdown",
      "metadata": {
        "id": "rVWSnRno3p2A"
      },
      "source": [
        "데이터프레임에 숫자 더하기"
      ]
    },
    {
      "cell_type": "code",
      "metadata": {
        "colab": {
          "base_uri": "https://localhost:8080/"
        },
        "id": "oLqixSzB3Qzj",
        "outputId": "d4c73016-66e9-4465-f21b-ee1cc449f6f4"
      },
      "source": [
        "import pandas as pd\n",
        "import seaborn as sns\n",
        "\n",
        "# titanic 데이터 셋에서 age, fare 2개 열을 선택하여 데이터프레임 만들기\n",
        "titanic = sns.load_dataset('titanic')\n",
        "df = titanic.loc[:, ['age','fare']]\n",
        "print(df.head())\n",
        "print('\\n')\n",
        "print(type(df))\n",
        "print('\\n')\n",
        "\n",
        "# 데이터프레임에 숫자 10 더하기\n",
        "addition = df + 10 \n",
        "print(addition.head())\n",
        "print('\\n')\n",
        "print(type(addition))"
      ],
      "execution_count": 96,
      "outputs": [
        {
          "output_type": "stream",
          "text": [
            "    age     fare\n",
            "0  22.0   7.2500\n",
            "1  38.0  71.2833\n",
            "2  26.0   7.9250\n",
            "3  35.0  53.1000\n",
            "4  35.0   8.0500\n",
            "\n",
            "\n",
            "<class 'pandas.core.frame.DataFrame'>\n",
            "\n",
            "\n",
            "    age     fare\n",
            "0  32.0  17.2500\n",
            "1  48.0  81.2833\n",
            "2  36.0  17.9250\n",
            "3  45.0  63.1000\n",
            "4  45.0  18.0500\n",
            "\n",
            "\n",
            "<class 'pandas.core.frame.DataFrame'>\n"
          ],
          "name": "stdout"
        }
      ]
    },
    {
      "cell_type": "markdown",
      "metadata": {
        "id": "qnVldyn14hSw"
      },
      "source": [
        "데이터프레임끼리 더하기"
      ]
    },
    {
      "cell_type": "code",
      "metadata": {
        "colab": {
          "base_uri": "https://localhost:8080/"
        },
        "id": "SdZMQOmv3-2p",
        "outputId": "56452bc9-c11a-4a16-c540-14ce5a7c9b19"
      },
      "source": [
        "import pandas as pd\n",
        "import seaborn as sns\n",
        "\n",
        "# titanic 데이터셋에서 age, fare 2개 열을 선택하여 데이터프레임 만들기\n",
        "titanic = sns.load_dataset('titanic')\n",
        "df = titanic.loc[:, ['age','fare']]\n",
        "print(df.tail())\n",
        "print('\\n')\n",
        "print(type(df))\n",
        "print('\\n')\n",
        "\n",
        "# 데이터프레임에 숫자 10 더하기\n",
        "addition = df + 10 \n",
        "print(addition.head())\n",
        "print('\\n')\n",
        "print(type(addition))\n",
        "print('\\n')\n",
        "\n",
        "# 데이터프레임끼리 연산하기(addition - df)\n",
        "subtraction = addition - df\n",
        "print(subtraction.tail())\n",
        "print('\\n')\n",
        "print(type(subtraction))"
      ],
      "execution_count": 97,
      "outputs": [
        {
          "output_type": "stream",
          "text": [
            "      age   fare\n",
            "886  27.0  13.00\n",
            "887  19.0  30.00\n",
            "888   NaN  23.45\n",
            "889  26.0  30.00\n",
            "890  32.0   7.75\n",
            "\n",
            "\n",
            "<class 'pandas.core.frame.DataFrame'>\n",
            "\n",
            "\n",
            "    age     fare\n",
            "0  32.0  17.2500\n",
            "1  48.0  81.2833\n",
            "2  36.0  17.9250\n",
            "3  45.0  63.1000\n",
            "4  45.0  18.0500\n",
            "\n",
            "\n",
            "<class 'pandas.core.frame.DataFrame'>\n",
            "\n",
            "\n",
            "      age  fare\n",
            "886  10.0  10.0\n",
            "887  10.0  10.0\n",
            "888   NaN  10.0\n",
            "889  10.0  10.0\n",
            "890  10.0  10.0\n",
            "\n",
            "\n",
            "<class 'pandas.core.frame.DataFrame'>\n"
          ],
          "name": "stdout"
        }
      ]
    },
    {
      "cell_type": "code",
      "metadata": {
        "id": "F3NJswcq41T2"
      },
      "source": [
        ""
      ],
      "execution_count": null,
      "outputs": []
    }
  ]
}